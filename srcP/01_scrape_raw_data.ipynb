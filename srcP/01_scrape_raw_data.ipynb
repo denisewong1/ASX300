{
 "cells": [
  {
   "cell_type": "code",
   "execution_count": 1,
   "metadata": {},
   "outputs": [],
   "source": [
    "# python libraries to import\n",
    "import pandas as pd\n",
    "import numpy as np"
   ]
  },
  {
   "cell_type": "code",
   "execution_count": 2,
   "metadata": {},
   "outputs": [],
   "source": [
    "# local functions must sit in same directory as this file\n",
    "import scrapeASX"
   ]
  },
  {
   "cell_type": "code",
   "execution_count": 3,
   "metadata": {},
   "outputs": [],
   "source": [
    "# global settings\n",
    "xDirectory = \"C:/Users/Denise/Documents/DataScience/ASX300/data/raw_ASXIndex\"\n",
    "xYearStart = 2015\n",
    "xYearEnd = 2021"
   ]
  },
  {
   "cell_type": "code",
   "execution_count": null,
   "metadata": {},
   "outputs": [],
   "source": []
  },
  {
   "cell_type": "markdown",
   "metadata": {},
   "source": [
    "Step 1 : Scrape master list of stocks and dates and save to the data directory"
   ]
  },
  {
   "cell_type": "code",
   "execution_count": null,
   "metadata": {},
   "outputs": [],
   "source": [
    "lstASXIndex = scrapeASX.lstASXIndex(2017,xYearEnd,xDirectory) #cannot start before 2017\n",
    "lstASXIndex.head()"
   ]
  },
  {
   "cell_type": "code",
   "execution_count": null,
   "metadata": {},
   "outputs": [],
   "source": []
  },
  {
   "cell_type": "markdown",
   "metadata": {},
   "source": [
    "Step 2 : Scrape master list of ASX forms"
   ]
  },
  {
   "cell_type": "code",
   "execution_count": 4,
   "metadata": {},
   "outputs": [
    {
     "data": {
      "text/html": [
       "<div>\n",
       "<style scoped>\n",
       "    .dataframe tbody tr th:only-of-type {\n",
       "        vertical-align: middle;\n",
       "    }\n",
       "\n",
       "    .dataframe tbody tr th {\n",
       "        vertical-align: top;\n",
       "    }\n",
       "\n",
       "    .dataframe thead th {\n",
       "        text-align: right;\n",
       "    }\n",
       "</style>\n",
       "<table border=\"1\" class=\"dataframe\">\n",
       "  <thead>\n",
       "    <tr style=\"text-align: right;\">\n",
       "      <th></th>\n",
       "      <th>Title</th>\n",
       "      <th>Link</th>\n",
       "    </tr>\n",
       "  </thead>\n",
       "  <tbody>\n",
       "    <tr>\n",
       "      <th>0</th>\n",
       "      <td>Appendix 1A - Application for Admission to the...</td>\n",
       "      <td>https://www.asxonline.com/static/companies/fil...</td>\n",
       "    </tr>\n",
       "    <tr>\n",
       "      <th>1</th>\n",
       "      <td>Appendix 1B - Application for Admission to the...</td>\n",
       "      <td>https://www.asxonline.com/static/companies/fil...</td>\n",
       "    </tr>\n",
       "    <tr>\n",
       "      <th>2</th>\n",
       "      <td>Appendix 1C - Application for Admission to the...</td>\n",
       "      <td>https://www.asxonline.com/static/companies/fil...</td>\n",
       "    </tr>\n",
       "    <tr>\n",
       "      <th>3</th>\n",
       "      <td>Appendix 2A - Application for quotation of +se...</td>\n",
       "      <td>https://www.asxonline.com/static/companies/fil...</td>\n",
       "    </tr>\n",
       "    <tr>\n",
       "      <th>4</th>\n",
       "      <td>Appendix 3A.1 - Notification of +dividend / di...</td>\n",
       "      <td>https://www.asxonline.com/static/companies/fil...</td>\n",
       "    </tr>\n",
       "  </tbody>\n",
       "</table>\n",
       "</div>"
      ],
      "text/plain": [
       "                                               Title  \\\n",
       "0  Appendix 1A - Application for Admission to the...   \n",
       "1  Appendix 1B - Application for Admission to the...   \n",
       "2  Appendix 1C - Application for Admission to the...   \n",
       "3  Appendix 2A - Application for quotation of +se...   \n",
       "4  Appendix 3A.1 - Notification of +dividend / di...   \n",
       "\n",
       "                                                Link  \n",
       "0  https://www.asxonline.com/static/companies/fil...  \n",
       "1  https://www.asxonline.com/static/companies/fil...  \n",
       "2  https://www.asxonline.com/static/companies/fil...  \n",
       "3  https://www.asxonline.com/static/companies/fil...  \n",
       "4  https://www.asxonline.com/static/companies/fil...  "
      ]
     },
     "execution_count": 4,
     "metadata": {},
     "output_type": "execute_result"
    }
   ],
   "source": [
    "lstASXforms = scrapeASX.lstASXforms(xDirectory)\n",
    "lstASXforms.head()"
   ]
  },
  {
   "cell_type": "code",
   "execution_count": 6,
   "metadata": {},
   "outputs": [],
   "source": [
    "lstASXForms = pd.read_csv(xDirectory + \"/ASXForms.csv\", encoding='utf-8')\n",
    "for formid in lstASXForms.index:\n",
    "    url = lstASXForms['Link'][formid]\n",
    "    text = scrapeASX.scrapeASXform(url,formid,xDirectory)"
   ]
  },
  {
   "cell_type": "code",
   "execution_count": null,
   "metadata": {},
   "outputs": [],
   "source": []
  },
  {
   "cell_type": "markdown",
   "metadata": {},
   "source": [
    "Step 3 : Get master list of stocks and scrape all at once and save to directory"
   ]
  },
  {
   "cell_type": "code",
   "execution_count": null,
   "metadata": {},
   "outputs": [],
   "source": [
    "lstASXIndex = pd.read_csv(xDirectory + \"/ASXIndex.csv\", encoding='utf-8')\n",
    "lstCode = sorted(lstASXIndex['Code'].unique().tolist())\n",
    "\n",
    "# scrape all at once, to do single year set xYearEnd = xYearStart+1\n",
    "for xYear in range(xYearStart,xYearEnd) :\n",
    "    print(xYear)\n",
    "    scrapeASX.scrapeASX_AllbyYear(xYear,xDirectory,lstCode)"
   ]
  },
  {
   "cell_type": "code",
   "execution_count": null,
   "metadata": {},
   "outputs": [],
   "source": []
  },
  {
   "cell_type": "markdown",
   "metadata": {},
   "source": [
    "Step 4 : Get master list of sectors and scrape all at once and save to directory"
   ]
  },
  {
   "cell_type": "code",
   "execution_count": null,
   "metadata": {},
   "outputs": [],
   "source": [
    "lstSector = scrapeASX.lstASXSector()\n",
    "lstSector = sorted(lstSector['Code'].unique().tolist())\n",
    "\n",
    "for xYear in range(xYearStart,xYearEnd) :\n",
    "    print(xYear)\n",
    "    lstASXPrice = scrapeASX.lstASXPrice(xYear,xDirectory,lstSector)\n",
    "    print(lstASXPrice.head())"
   ]
  },
  {
   "cell_type": "code",
   "execution_count": null,
   "metadata": {},
   "outputs": [],
   "source": []
  },
  {
   "cell_type": "code",
   "execution_count": null,
   "metadata": {},
   "outputs": [],
   "source": []
  },
  {
   "cell_type": "code",
   "execution_count": null,
   "metadata": {},
   "outputs": [],
   "source": []
  },
  {
   "cell_type": "code",
   "execution_count": null,
   "metadata": {},
   "outputs": [],
   "source": []
  },
  {
   "cell_type": "code",
   "execution_count": null,
   "metadata": {},
   "outputs": [],
   "source": []
  }
 ],
 "metadata": {
  "kernelspec": {
   "display_name": "Python 3",
   "language": "python",
   "name": "python3"
  },
  "language_info": {
   "codemirror_mode": {
    "name": "ipython",
    "version": 3
   },
   "file_extension": ".py",
   "mimetype": "text/x-python",
   "name": "python",
   "nbconvert_exporter": "python",
   "pygments_lexer": "ipython3",
   "version": "3.7.4"
  }
 },
 "nbformat": 4,
 "nbformat_minor": 2
}
