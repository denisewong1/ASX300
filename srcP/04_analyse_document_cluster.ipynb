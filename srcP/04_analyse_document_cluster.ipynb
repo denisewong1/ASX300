{
 "cells": [
  {
   "cell_type": "code",
   "execution_count": 1,
   "metadata": {},
   "outputs": [],
   "source": [
    "# python libraries to import\n",
    "import pandas as pd\n",
    "import numpy as np\n",
    "import re\n",
    "\n",
    "import nltk\n",
    "from nltk import word_tokenize\n",
    "from nltk.corpus import stopwords\n",
    "from sklearn.feature_extraction.text import TfidfVectorizer "
   ]
  },
  {
   "cell_type": "code",
   "execution_count": 2,
   "metadata": {},
   "outputs": [
    {
     "name": "stderr",
     "output_type": "stream",
     "text": [
      "[nltk_data] Downloading package stopwords to\n",
      "[nltk_data]     C:\\Users\\Denise\\AppData\\Roaming\\nltk_data...\n",
      "[nltk_data]   Package stopwords is already up-to-date!\n",
      "[nltk_data] Downloading package punkt to\n",
      "[nltk_data]     C:\\Users\\Denise\\AppData\\Roaming\\nltk_data...\n",
      "[nltk_data]   Package punkt is already up-to-date!\n"
     ]
    }
   ],
   "source": [
    "# local functions must sit in same directory as this file\n",
    "import usefulNLP"
   ]
  },
  {
   "cell_type": "code",
   "execution_count": 3,
   "metadata": {},
   "outputs": [],
   "source": [
    "# global settings\n",
    "xDir_Src = \"C:/Users/Denise/Documents/DataScience/ASX300/data/raw_ASXIndex\"\n",
    "xDir_Dest = \"C:/Users/Denise/Documents/DataScience/ASX300/data/preprocess\"\n",
    "xYearStart = 2015\n",
    "xYearEnd = 2021"
   ]
  },
  {
   "cell_type": "code",
   "execution_count": null,
   "metadata": {},
   "outputs": [],
   "source": [
    "# read data files\n",
    "lstASXIndex = pd.read_csv(xDir_Src + \"/ASXIndex.csv\", encoding='utf-8')\n",
    "\n",
    "lstASXAnnTitle = pd.DataFrame([])\n",
    "for xYear in range(xYearStart,xYearEnd):\n",
    "    xASXAnnTitle = pd.read_csv(xDir_Src + \"/ASXAnnTitle_\" + str(xYear) + \".csv\", encoding='utf-8')\n",
    "    lstASXAnnTitle = pd.concat([lstASXAnnTitle, xASXAnnTitle], axis=0)\n",
    "lstASXAnnTitle['Year'] = pd.to_datetime(lstASXAnnTitle['Date']).dt.year\n",
    "\n",
    "lstASXForms = pd.read_csv(xDir_Src + \"/ASXForms.csv\", encoding='utf-8')\n",
    "\n",
    "# get unique lists of end dates & codes\n",
    "lstDate = sorted(lstASXIndex['Date'].unique().tolist())\n",
    "lstCode = sorted(lstASXIndex['Code'].unique().tolist())\n",
    "\n",
    "# counts of announcement titles by date and code\n",
    "# lstASXAnnTitle['Date'].value_counts()\n",
    "# lstASXAnnTitle['Code'].value_counts()"
   ]
  },
  {
   "cell_type": "code",
   "execution_count": null,
   "metadata": {},
   "outputs": [],
   "source": []
  },
  {
   "cell_type": "code",
   "execution_count": null,
   "metadata": {},
   "outputs": [],
   "source": [
    "# scraping directly from website\n",
    "url1 = 'https://www.asx.com.au/asx/statistics/displayAnnouncement.do?display=pdf&idsId=02218926'\n",
    "url2 = 'https://www.asx.com.au/asx/statistics/displayAnnouncement.do?display=pdf&idsId=02217220'\n",
    "\n",
    "# scraping using pypdf\n",
    "tempfile1 = scrapePDF.download_ASX_pdf(url1)\n",
    "text1 = scrapePDF.scrapePDF_pypdf2(tempfile1)\n",
    "\n",
    "# scraping using pdfminer\n",
    "tempfile2 = scrapePDF.download_ASX_pdf(url2)\n",
    "text2 = scrapePDF.scrapePDF_pdfminer3(tempfile2)"
   ]
  },
  {
   "cell_type": "code",
   "execution_count": null,
   "metadata": {},
   "outputs": [],
   "source": [
    "# scraping pre-saved files\n",
    "# scraping using pypdf\n",
    "xfilename1 = xDir_Src + \"/text1.pdf\"\n",
    "text1 = scrapePDF.scrapePDF_pypdf2(xfilename1)\n",
    "\n",
    "# scraping using pdfminer\n",
    "xfilename2 = xDir_Src + \"/text2.pdf\"\n",
    "text2 = scrapePDF.scrapePDF_pdfminer3(xfilename2)"
   ]
  },
  {
   "cell_type": "code",
   "execution_count": null,
   "metadata": {},
   "outputs": [],
   "source": [
    "# scraping and joining multiple documents\n",
    "text = []\n",
    "for i in range(5) :\n",
    "    xfilename = xDir_Src + \"/text\" + str(i+1) + \".pdf\"\n",
    "    #xtext = scrapePDF.scrapePDF_pdfminer3(xfilename)\n",
    "    totalpages2,documentInfo2,xtext = scrapePDF.scrapePDF_pypdf2(xfilename2)\n",
    "    xtext = xtext.split('  ')\n",
    "    xtext = '\\n'.join(xtext)\n",
    "    text.append(xtext)\n",
    "text"
   ]
  },
  {
   "cell_type": "code",
   "execution_count": null,
   "metadata": {},
   "outputs": [],
   "source": []
  },
  {
   "cell_type": "code",
   "execution_count": null,
   "metadata": {},
   "outputs": [],
   "source": []
  },
  {
   "cell_type": "code",
   "execution_count": null,
   "metadata": {},
   "outputs": [],
   "source": [
    "tf = TfidfVectorizer(max_df=1.00, max_features=1000,\n",
    "                     min_df=0.80, norm='l2', stop_words='english',\n",
    "                     use_idf=True, tokenizer=usefulNLP.tokenize_only,ngram_range=(5,10))\n",
    "tfidf_matrix = tf.fit_transform(text)\n",
    "print(tfidf_matrix.shape)\n",
    "\n",
    "terms = tf.get_feature_names()\n",
    "print(terms)"
   ]
  },
  {
   "cell_type": "code",
   "execution_count": null,
   "metadata": {},
   "outputs": [],
   "source": []
  },
  {
   "cell_type": "code",
   "execution_count": null,
   "metadata": {},
   "outputs": [],
   "source": []
  },
  {
   "cell_type": "code",
   "execution_count": null,
   "metadata": {},
   "outputs": [],
   "source": [
    "# getting document info metadata\n",
    "from pdfminer.pdfparser import PDFParser\n",
    "from pdfminer.pdfdocument import PDFDocument\n",
    "\n",
    "fp = open(xfilename1, 'rb')\n",
    "parser = PDFParser(fp)\n",
    "doc = PDFDocument(parser)\n",
    "\n",
    "print(doc.info)  # The \"Info\" metadata"
   ]
  },
  {
   "cell_type": "code",
   "execution_count": null,
   "metadata": {},
   "outputs": [],
   "source": []
  },
  {
   "cell_type": "code",
   "execution_count": null,
   "metadata": {},
   "outputs": [],
   "source": [
    "def getpdfcontent(pdf_content):\n",
    "    #pdf_content = extract_pdf(path)\n",
    "    text = pdf_content\n",
    "    text = text.replace(',','')\n",
    "    text = text.replace('  ',' <newline>')\n",
    "    text = text.replace('\\n ',' ')\n",
    "    text = text.replace(' \\n',' ')\n",
    "    text = text.replace(\"<newline>\", \"\\n\\n\")\n",
    "    text = text.splitlines()\n",
    "    \n",
    "    # extract paragraphs\n",
    "    current = \"\"\n",
    "    paragraphs = []\n",
    "    for line in text:\n",
    "        if not line.strip():\n",
    "            if current.strip():\n",
    "                paragraphs.append(current)\n",
    "                current = \"\"\n",
    "            continue\n",
    "        current += line.strip()\n",
    "    return paragraphs\n",
    "\n",
    "converted = getpdfcontent(text1)\n",
    "converted"
   ]
  },
  {
   "cell_type": "code",
   "execution_count": null,
   "metadata": {},
   "outputs": [],
   "source": [
    "def clean_pdf(pdf_content) :\n",
    "    text = pdf_content\n",
    "    text = re.sub(r'([0-9](?=[A-Z])|[0-9](?=[A-Z][a-z]))', r'\\1 ', text)\n",
    "    text = re.sub(r'([a-z](?=[A-Z])|[A-Z](?=[A-Z][a-z]))', r'\\1 ', text)\n",
    "    text = re.sub(r'([a-z](?=[0-9]))', r'\\1 ', text)\n",
    "    text = text.replace(')',') ')\n",
    "    text = text.replace('(',' (')\n",
    "    text = text.replace(',','')\n",
    "    text = text.replace('?','? ')\n",
    "    text = text.replace('-',' -')\n",
    "    return(text)"
   ]
  },
  {
   "cell_type": "code",
   "execution_count": null,
   "metadata": {},
   "outputs": [],
   "source": []
  },
  {
   "cell_type": "code",
   "execution_count": null,
   "metadata": {},
   "outputs": [],
   "source": []
  },
  {
   "cell_type": "code",
   "execution_count": null,
   "metadata": {},
   "outputs": [],
   "source": []
  },
  {
   "cell_type": "code",
   "execution_count": null,
   "metadata": {},
   "outputs": [],
   "source": []
  },
  {
   "cell_type": "code",
   "execution_count": null,
   "metadata": {},
   "outputs": [],
   "source": []
  },
  {
   "cell_type": "code",
   "execution_count": null,
   "metadata": {},
   "outputs": [],
   "source": []
  },
  {
   "cell_type": "code",
   "execution_count": null,
   "metadata": {},
   "outputs": [],
   "source": []
  },
  {
   "cell_type": "code",
   "execution_count": null,
   "metadata": {},
   "outputs": [],
   "source": []
  },
  {
   "cell_type": "code",
   "execution_count": null,
   "metadata": {},
   "outputs": [],
   "source": []
  },
  {
   "cell_type": "code",
   "execution_count": null,
   "metadata": {},
   "outputs": [],
   "source": []
  }
 ],
 "metadata": {
  "kernelspec": {
   "display_name": "Python 3",
   "language": "python",
   "name": "python3"
  },
  "language_info": {
   "codemirror_mode": {
    "name": "ipython",
    "version": 3
   },
   "file_extension": ".py",
   "mimetype": "text/x-python",
   "name": "python",
   "nbconvert_exporter": "python",
   "pygments_lexer": "ipython3",
   "version": "3.7.4"
  }
 },
 "nbformat": 4,
 "nbformat_minor": 2
}
