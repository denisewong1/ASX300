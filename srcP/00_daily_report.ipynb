{
 "cells": [
  {
   "cell_type": "code",
   "execution_count": 44,
   "metadata": {},
   "outputs": [],
   "source": [
    "# python libraries to import\n",
    "import pandas as pd\n",
    "import numpy as np\n",
    "\n",
    "# local functions must sit in same directory as this file\n",
    "import scrapeASX\n",
    "\n",
    "# global settings\n",
    "xDirectory = \"C:/Users/Denise/Documents/DataScience/ASX300/data/raw_ASXIndex\"\n",
    "xYearStart = 2015\n",
    "xYearEnd = 2021"
   ]
  },
  {
   "cell_type": "code",
   "execution_count": null,
   "metadata": {},
   "outputs": [],
   "source": []
  },
  {
   "cell_type": "code",
   "execution_count": 2,
   "metadata": {},
   "outputs": [],
   "source": [
    "# update all data\n",
    "lstASXIndex = scrapeASX.lstASXIndex(2017,xYearEnd,xDirectory) #cannot start before 2017\n",
    "lstCode = sorted(lstASXIndex['Code'].unique().tolist())\n",
    "\n",
    "xYear = 2020\n",
    "scrapeASX.scrapeASX_AllbyYear(xYear,xDirectory,lstCode)"
   ]
  },
  {
   "cell_type": "code",
   "execution_count": 65,
   "metadata": {},
   "outputs": [],
   "source": [
    "# load all data into memory\n",
    "xYear = 2020\n",
    "dfASXIndex = pd.read_csv(xDirectory + \"/ASXIndex.csv\", encoding='utf-8')\n",
    "dfASXAnnTitle = pd.read_csv(xDirectory + \"/ASXAnnTitle_\" + str(xYear) + \".csv\", encoding='utf-8')\n",
    "dfASXPrice = pd.read_csv(xDirectory + \"/ASXPrice_\" + str(xYear) + \".csv\", encoding='utf-8')\n",
    "dfASXDividends = pd.read_csv(xDirectory + \"/ASXDividends_\" + str(xYear) + \".csv\", encoding='utf-8')\n",
    "#dfASXSplits = pd.read_csv(xDirectory + \"/ASXSplits_\" + str(xYear) + \".csv\", encoding='utf-8')\n",
    "dfASXShortInt = pd.read_csv(xDirectory + \"/ASXShortInt_\" + str(xYear) + \".csv\", encoding='utf-8')"
   ]
  },
  {
   "cell_type": "code",
   "execution_count": 30,
   "metadata": {},
   "outputs": [],
   "source": [
    "lstDate = sorted(dfASXPrice['Date'].unique().tolist(),reverse=True)\n",
    "xCurr = lstDate[0]\n",
    "xPrev = lstDate[1]\n",
    "xDaterange = lstDate[:2]\n",
    "xcolPrice = ['Date','Code','Close']"
   ]
  },
  {
   "cell_type": "code",
   "execution_count": null,
   "metadata": {},
   "outputs": [],
   "source": []
  },
  {
   "cell_type": "code",
   "execution_count": 82,
   "metadata": {},
   "outputs": [],
   "source": [
    "# get current index constituents\n",
    "currASXIndex = dfASXIndex[dfASXIndex['Date']==dfASXIndex['Date'].max()]"
   ]
  },
  {
   "cell_type": "code",
   "execution_count": 77,
   "metadata": {},
   "outputs": [
    {
     "name": "stdout",
     "output_type": "stream",
     "text": [
      "    Code   Prev   Curr  Change       Sector\n",
      "205  NCZ  0.110  0.145   31.82    Materials\n",
      "230  PDN  0.050  0.061   22.00       Energy\n",
      "186  MLX  0.069  0.078   13.04          NaN\n",
      "314  VUK  1.280  1.440   12.50   Financials\n",
      "307  URW  4.500  4.990   10.89  Real Estate\n",
      "    Code   Prev   Curr  Change       Sector\n",
      "208  NGI  2.310  1.700  -26.41   Financials\n",
      "18   AMA  0.405  0.360  -11.11  Industrials\n",
      "31   ARF  2.140  1.930   -9.81  Real Estate\n",
      "252  RIC  0.805  0.730   -9.32          NaN\n",
      "248  REG  1.390  1.275   -8.27  Health Care\n"
     ]
    }
   ],
   "source": [
    "# Get top and bottom 20 movers\n",
    "temp = dfASXPrice[dfASXPrice['Date'].isin(xDaterange)][xcolPrice]\n",
    "temp = temp.pivot_table(index=['Code'],columns='Date',values='Close').reset_index()\n",
    "temp.columns = ['Code','Prev','Curr']\n",
    "temp['Change'] = np.round(100 * (temp['Curr']/temp['Prev'] - 1),2)\n",
    "temp = temp.merge(currASXIndex[['Code','Sector']],how='left',on=['Code'])\n",
    "temp = temp[temp['Change'].notna()]\n",
    "temp = temp.sort_values('Change')\n",
    "print(temp.iloc[-5:].sort_values(by=['Change'],ascending=False))\n",
    "print(temp.iloc[:5])"
   ]
  },
  {
   "cell_type": "code",
   "execution_count": 81,
   "metadata": {},
   "outputs": [
    {
     "name": "stdout",
     "output_type": "stream",
     "text": [
      "-0.17297213622290977\n"
     ]
    },
    {
     "data": {
      "text/plain": [
       "Sector\n",
       "Health Care                  -1.725652\n",
       "Information Technology       -0.964000\n",
       "Consumer Staples             -0.918500\n",
       "Telecommunication Services   -0.830000\n",
       "Utilities                    -0.410000\n",
       "Industrials                  -0.296552\n",
       "Financials                   -0.258108\n",
       "Energy                       -0.120588\n",
       "Materials                     0.122105\n",
       "Real Estate                   0.701250\n",
       "Consumer Discretionary        1.286452\n",
       "Name: Change, dtype: float64"
      ]
     },
     "execution_count": 81,
     "metadata": {},
     "output_type": "execute_result"
    }
   ],
   "source": [
    "# average move by sector (not weighted average)\n",
    "print(temp['Change'].mean())\n",
    "temp.groupby('Sector')['Change'].mean().sort_values()"
   ]
  },
  {
   "cell_type": "code",
   "execution_count": 85,
   "metadata": {},
   "outputs": [
    {
     "data": {
      "text/html": [
       "<div>\n",
       "<style scoped>\n",
       "    .dataframe tbody tr th:only-of-type {\n",
       "        vertical-align: middle;\n",
       "    }\n",
       "\n",
       "    .dataframe tbody tr th {\n",
       "        vertical-align: top;\n",
       "    }\n",
       "\n",
       "    .dataframe thead th {\n",
       "        text-align: right;\n",
       "    }\n",
       "</style>\n",
       "<table border=\"1\" class=\"dataframe\">\n",
       "  <thead>\n",
       "    <tr style=\"text-align: right;\">\n",
       "      <th></th>\n",
       "      <th>Date</th>\n",
       "      <th>Time</th>\n",
       "      <th>Title</th>\n",
       "      <th>Link</th>\n",
       "      <th>Code</th>\n",
       "    </tr>\n",
       "  </thead>\n",
       "  <tbody>\n",
       "    <tr>\n",
       "      <th>182</th>\n",
       "      <td>31/03/2020</td>\n",
       "      <td>1:25 PM</td>\n",
       "      <td>Update on General Meeting</td>\n",
       "      <td>/asx/statistics/displayAnnouncement.do?display...</td>\n",
       "      <td>AJM</td>\n",
       "    </tr>\n",
       "    <tr>\n",
       "      <th>183</th>\n",
       "      <td>31/03/2020</td>\n",
       "      <td>1:19 PM</td>\n",
       "      <td>Notice of General Meeting/Proxy Form</td>\n",
       "      <td>/asx/statistics/displayAnnouncement.do?display...</td>\n",
       "      <td>AJM</td>\n",
       "    </tr>\n",
       "    <tr>\n",
       "      <th>308</th>\n",
       "      <td>31/03/2020</td>\n",
       "      <td>3:20 PM</td>\n",
       "      <td>Becoming a substantial holder from CBA</td>\n",
       "      <td>/asx/statistics/displayAnnouncement.do?display...</td>\n",
       "      <td>AMA</td>\n",
       "    </tr>\n",
       "    <tr>\n",
       "      <th>344</th>\n",
       "      <td>31/03/2020</td>\n",
       "      <td>8:26 AM</td>\n",
       "      <td>Operating Update - Peak Shaft Ore Hoisting Rec...</td>\n",
       "      <td>/asx/statistics/displayAnnouncement.do?display...</td>\n",
       "      <td>AMI</td>\n",
       "    </tr>\n",
       "    <tr>\n",
       "      <th>471</th>\n",
       "      <td>31/03/2020</td>\n",
       "      <td>3:59 PM</td>\n",
       "      <td>Dividend/Distribution - ANZPF</td>\n",
       "      <td>/asx/statistics/displayAnnouncement.do?display...</td>\n",
       "      <td>ANZ</td>\n",
       "    </tr>\n",
       "  </tbody>\n",
       "</table>\n",
       "</div>"
      ],
      "text/plain": [
       "           Date     Time                                              Title  \\\n",
       "182  31/03/2020  1:25 PM                          Update on General Meeting   \n",
       "183  31/03/2020  1:19 PM               Notice of General Meeting/Proxy Form   \n",
       "308  31/03/2020  3:20 PM             Becoming a substantial holder from CBA   \n",
       "344  31/03/2020  8:26 AM  Operating Update - Peak Shaft Ore Hoisting Rec...   \n",
       "471  31/03/2020  3:59 PM                      Dividend/Distribution - ANZPF   \n",
       "\n",
       "                                                  Link Code  \n",
       "182  /asx/statistics/displayAnnouncement.do?display...  AJM  \n",
       "183  /asx/statistics/displayAnnouncement.do?display...  AJM  \n",
       "308  /asx/statistics/displayAnnouncement.do?display...  AMA  \n",
       "344  /asx/statistics/displayAnnouncement.do?display...  AMI  \n",
       "471  /asx/statistics/displayAnnouncement.do?display...  ANZ  "
      ]
     },
     "execution_count": 85,
     "metadata": {},
     "output_type": "execute_result"
    }
   ],
   "source": [
    "# get announcements - why doesnt it download most recent month?\n",
    "# how to integrate cluster numbers here\n",
    "dfASXAnnTitle[dfASXAnnTitle['Date']==dfASXAnnTitle['Date'].max()].head()"
   ]
  },
  {
   "cell_type": "code",
   "execution_count": 92,
   "metadata": {},
   "outputs": [
    {
     "data": {
      "text/html": [
       "<div>\n",
       "<style scoped>\n",
       "    .dataframe tbody tr th:only-of-type {\n",
       "        vertical-align: middle;\n",
       "    }\n",
       "\n",
       "    .dataframe tbody tr th {\n",
       "        vertical-align: top;\n",
       "    }\n",
       "\n",
       "    .dataframe thead th {\n",
       "        text-align: right;\n",
       "    }\n",
       "</style>\n",
       "<table border=\"1\" class=\"dataframe\">\n",
       "  <thead>\n",
       "    <tr style=\"text-align: right;\">\n",
       "      <th></th>\n",
       "      <th>Name</th>\n",
       "      <th>Code</th>\n",
       "      <th>Short Units</th>\n",
       "      <th>Total Units</th>\n",
       "      <th>Short Percent</th>\n",
       "      <th>Date</th>\n",
       "    </tr>\n",
       "  </thead>\n",
       "  <tbody>\n",
       "    <tr>\n",
       "      <th>37155</th>\n",
       "      <td>GALAXY RESOURCES ORDINARY</td>\n",
       "      <td>GXY</td>\n",
       "      <td>69627791</td>\n",
       "      <td>409479338</td>\n",
       "      <td>17.003982</td>\n",
       "      <td>2020-04-02</td>\n",
       "    </tr>\n",
       "    <tr>\n",
       "      <th>37310</th>\n",
       "      <td>OOH!MEDIA LIMITED ORDINARY</td>\n",
       "      <td>OML</td>\n",
       "      <td>36121092</td>\n",
       "      <td>242385958</td>\n",
       "      <td>14.902304</td>\n",
       "      <td>2020-04-02</td>\n",
       "    </tr>\n",
       "    <tr>\n",
       "      <th>37408</th>\n",
       "      <td>SPEEDCAST INT LTD ORDINARY</td>\n",
       "      <td>SDA</td>\n",
       "      <td>31616362</td>\n",
       "      <td>239741258</td>\n",
       "      <td>13.187702</td>\n",
       "      <td>2020-04-02</td>\n",
       "    </tr>\n",
       "    <tr>\n",
       "      <th>37315</th>\n",
       "      <td>OROCOBRE LIMITED ORDINARY</td>\n",
       "      <td>ORE</td>\n",
       "      <td>34532080</td>\n",
       "      <td>261977578</td>\n",
       "      <td>13.181311</td>\n",
       "      <td>2020-04-02</td>\n",
       "    </tr>\n",
       "    <tr>\n",
       "      <th>37291</th>\n",
       "      <td>NEWS CORP.. A NON-VOTING CDI 1:1</td>\n",
       "      <td>NWSLV</td>\n",
       "      <td>2231372</td>\n",
       "      <td>18372533</td>\n",
       "      <td>12.145152</td>\n",
       "      <td>2020-04-02</td>\n",
       "    </tr>\n",
       "    <tr>\n",
       "      <th>37198</th>\n",
       "      <td>INGHAMS GROUP ORDINARY</td>\n",
       "      <td>ING</td>\n",
       "      <td>39326721</td>\n",
       "      <td>371679601</td>\n",
       "      <td>10.580812</td>\n",
       "      <td>2020-04-02</td>\n",
       "    </tr>\n",
       "    <tr>\n",
       "      <th>37216</th>\n",
       "      <td>JB HI-FI LIMITED ORDINARY</td>\n",
       "      <td>JBH</td>\n",
       "      <td>12096271</td>\n",
       "      <td>114883372</td>\n",
       "      <td>10.529175</td>\n",
       "      <td>2020-04-02</td>\n",
       "    </tr>\n",
       "    <tr>\n",
       "      <th>37287</th>\n",
       "      <td>NEW CENTURY RESOURCE ORDINARY</td>\n",
       "      <td>NCZ</td>\n",
       "      <td>64171944</td>\n",
       "      <td>637854575</td>\n",
       "      <td>10.060592</td>\n",
       "      <td>2020-04-02</td>\n",
       "    </tr>\n",
       "    <tr>\n",
       "      <th>37075</th>\n",
       "      <td>CLINUVEL PHARMACEUT. ORDINARY</td>\n",
       "      <td>CUV</td>\n",
       "      <td>4695369</td>\n",
       "      <td>49410338</td>\n",
       "      <td>9.502807</td>\n",
       "      <td>2020-04-02</td>\n",
       "    </tr>\n",
       "    <tr>\n",
       "      <th>37278</th>\n",
       "      <td>MYER HOLDINGS LTD ORDINARY</td>\n",
       "      <td>MYR</td>\n",
       "      <td>77510651</td>\n",
       "      <td>821278815</td>\n",
       "      <td>9.437800</td>\n",
       "      <td>2020-04-02</td>\n",
       "    </tr>\n",
       "  </tbody>\n",
       "</table>\n",
       "</div>"
      ],
      "text/plain": [
       "                                   Name   Code  Short Units  Total Units  \\\n",
       "37155         GALAXY RESOURCES ORDINARY   GXY      69627791    409479338   \n",
       "37310        OOH!MEDIA LIMITED ORDINARY   OML      36121092    242385958   \n",
       "37408        SPEEDCAST INT LTD ORDINARY   SDA      31616362    239741258   \n",
       "37315         OROCOBRE LIMITED ORDINARY   ORE      34532080    261977578   \n",
       "37291  NEWS CORP.. A NON-VOTING CDI 1:1  NWSLV      2231372     18372533   \n",
       "37198            INGHAMS GROUP ORDINARY   ING      39326721    371679601   \n",
       "37216         JB HI-FI LIMITED ORDINARY   JBH      12096271    114883372   \n",
       "37287     NEW CENTURY RESOURCE ORDINARY   NCZ      64171944    637854575   \n",
       "37075     CLINUVEL PHARMACEUT. ORDINARY   CUV       4695369     49410338   \n",
       "37278        MYER HOLDINGS LTD ORDINARY   MYR      77510651    821278815   \n",
       "\n",
       "       Short Percent        Date  \n",
       "37155      17.003982  2020-04-02  \n",
       "37310      14.902304  2020-04-02  \n",
       "37408      13.187702  2020-04-02  \n",
       "37315      13.181311  2020-04-02  \n",
       "37291      12.145152  2020-04-02  \n",
       "37198      10.580812  2020-04-02  \n",
       "37216      10.529175  2020-04-02  \n",
       "37287      10.060592  2020-04-02  \n",
       "37075       9.502807  2020-04-02  \n",
       "37278       9.437800  2020-04-02  "
      ]
     },
     "execution_count": 92,
     "metadata": {},
     "output_type": "execute_result"
    }
   ],
   "source": [
    "# get short interest top 10\n",
    "currASXShortInt = dfASXShortInt[dfASXShortInt['Date']==dfASXShortInt['Date'].max()]\n",
    "currASXShortInt.sort_values('Short Percent',ascending=False)[:10]"
   ]
  },
  {
   "cell_type": "code",
   "execution_count": 142,
   "metadata": {},
   "outputs": [
    {
     "name": "stdout",
     "output_type": "stream",
     "text": [
      "    Code      Prev       Curr  Change                  Sector\n",
      "621  Z1P  5.613515   7.229060    1.62              Financials\n",
      "382  MYR  7.956364   9.437800    1.48  Consumer Discretionary\n",
      "310  JBH  9.407719  10.529175    1.12  Consumer Discretionary\n",
      "96   BLD  3.028398   4.109247    1.08               Materials\n",
      "37   AMA  3.320624   4.146070    0.83             Industrials\n",
      "    Code      Prev      Curr  Change                  Sector\n",
      "556  SYR  9.652596  7.173920   -2.48               Materials\n",
      "136  CGC  6.894994  5.286505   -1.61        Consumer Staples\n",
      "126  CCP  2.738475  1.423116   -1.32              Financials\n",
      "154  CNI  1.716906  0.447001   -1.27              Financials\n",
      "411  NXT  6.112283  4.965658   -1.15  Information Technology\n"
     ]
    }
   ],
   "source": [
    "# get largest change in short interest over the week and price change since\n",
    "xWeek = sorted(dfASXShortInt['Date'].unique().tolist(),reverse=True)[:6]\n",
    "xWeekrange = [xWeek[0],xWeek[5]]\n",
    "xcolShortInt = ['Date','Code','Short Percent']\n",
    "temp2 = dfASXShortInt[dfASXShortInt['Date'].isin(xWeekrange)][xcolShortInt]\n",
    "temp2['Code'] = temp2['Code'].str.strip()\n",
    "temp2 = temp2.pivot_table(index=['Code'],columns='Date',values='Short Percent').reset_index()\n",
    "temp2.columns = ['Code','Prev','Curr']\n",
    "temp2['Change'] =  np.round(temp2['Curr'] - temp2['Prev'],2)\n",
    "temp2 = temp2.merge(currASXIndex[['Code','Sector']],how='left',on=['Code'])\n",
    "temp2 = temp2[temp2['Sector'].notna()]\n",
    "temp2 = temp2.sort_values('Change')\n",
    "print(temp2.iloc[-5:].sort_values(by=['Change'],ascending=False))\n",
    "print(temp2.iloc[:5])"
   ]
  },
  {
   "cell_type": "code",
   "execution_count": null,
   "metadata": {},
   "outputs": [],
   "source": []
  }
 ],
 "metadata": {
  "kernelspec": {
   "display_name": "Python 3",
   "language": "python",
   "name": "python3"
  },
  "language_info": {
   "codemirror_mode": {
    "name": "ipython",
    "version": 3
   },
   "file_extension": ".py",
   "mimetype": "text/x-python",
   "name": "python",
   "nbconvert_exporter": "python",
   "pygments_lexer": "ipython3",
   "version": "3.7.4"
  }
 },
 "nbformat": 4,
 "nbformat_minor": 2
}
