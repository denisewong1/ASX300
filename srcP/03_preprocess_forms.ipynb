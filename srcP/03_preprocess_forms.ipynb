{
 "cells": [
  {
   "cell_type": "code",
   "execution_count": 1,
   "metadata": {},
   "outputs": [],
   "source": [
    "# python libraries to import\n",
    "import pandas as pd\n",
    "import numpy as np"
   ]
  },
  {
   "cell_type": "code",
   "execution_count": 2,
   "metadata": {},
   "outputs": [
    {
     "name": "stderr",
     "output_type": "stream",
     "text": [
      "[nltk_data] Downloading package stopwords to\n",
      "[nltk_data]     C:\\Users\\Denise\\AppData\\Roaming\\nltk_data...\n",
      "[nltk_data]   Package stopwords is already up-to-date!\n",
      "[nltk_data] Downloading package punkt to\n",
      "[nltk_data]     C:\\Users\\Denise\\AppData\\Roaming\\nltk_data...\n",
      "[nltk_data]   Package punkt is already up-to-date!\n"
     ]
    }
   ],
   "source": [
    "# local functions must sit in same directory as this file\n",
    "import usefulNLP"
   ]
  },
  {
   "cell_type": "code",
   "execution_count": 5,
   "metadata": {},
   "outputs": [],
   "source": [
    "# global settings\n",
    "xDir_Src = \"C:/Users/Denise/Documents/DataScience/ASX300/data/raw_ASXIndex\"\n",
    "xDir_Dest = \"C:/Users/Denise/Documents/DataScience/ASX300/data/preprocess\"\n",
    "xYearStart = 2015\n",
    "xYearEnd = 2021"
   ]
  },
  {
   "cell_type": "code",
   "execution_count": 6,
   "metadata": {},
   "outputs": [
    {
     "data": {
      "text/html": [
       "<div>\n",
       "<style scoped>\n",
       "    .dataframe tbody tr th:only-of-type {\n",
       "        vertical-align: middle;\n",
       "    }\n",
       "\n",
       "    .dataframe tbody tr th {\n",
       "        vertical-align: top;\n",
       "    }\n",
       "\n",
       "    .dataframe thead th {\n",
       "        text-align: right;\n",
       "    }\n",
       "</style>\n",
       "<table border=\"1\" class=\"dataframe\">\n",
       "  <thead>\n",
       "    <tr style=\"text-align: right;\">\n",
       "      <th></th>\n",
       "      <th>Title</th>\n",
       "      <th>Link</th>\n",
       "    </tr>\n",
       "  </thead>\n",
       "  <tbody>\n",
       "    <tr>\n",
       "      <th>0</th>\n",
       "      <td>Appendix 1A - Application for Admission to the...</td>\n",
       "      <td>https://www.asxonline.com/static/companies/fil...</td>\n",
       "    </tr>\n",
       "    <tr>\n",
       "      <th>1</th>\n",
       "      <td>Appendix 1B - Application for Admission to the...</td>\n",
       "      <td>https://www.asxonline.com/static/companies/fil...</td>\n",
       "    </tr>\n",
       "    <tr>\n",
       "      <th>2</th>\n",
       "      <td>Appendix 1C - Application for Admission to the...</td>\n",
       "      <td>https://www.asxonline.com/static/companies/fil...</td>\n",
       "    </tr>\n",
       "    <tr>\n",
       "      <th>3</th>\n",
       "      <td>Appendix 2A - Application for quotation of +se...</td>\n",
       "      <td>https://www.asxonline.com/static/companies/fil...</td>\n",
       "    </tr>\n",
       "    <tr>\n",
       "      <th>4</th>\n",
       "      <td>Appendix 3A.1 - Notification of +dividend / di...</td>\n",
       "      <td>https://www.asxonline.com/static/companies/fil...</td>\n",
       "    </tr>\n",
       "  </tbody>\n",
       "</table>\n",
       "</div>"
      ],
      "text/plain": [
       "                                               Title  \\\n",
       "0  Appendix 1A - Application for Admission to the...   \n",
       "1  Appendix 1B - Application for Admission to the...   \n",
       "2  Appendix 1C - Application for Admission to the...   \n",
       "3  Appendix 2A - Application for quotation of +se...   \n",
       "4  Appendix 3A.1 - Notification of +dividend / di...   \n",
       "\n",
       "                                                Link  \n",
       "0  https://www.asxonline.com/static/companies/fil...  \n",
       "1  https://www.asxonline.com/static/companies/fil...  \n",
       "2  https://www.asxonline.com/static/companies/fil...  \n",
       "3  https://www.asxonline.com/static/companies/fil...  \n",
       "4  https://www.asxonline.com/static/companies/fil...  "
      ]
     },
     "execution_count": 6,
     "metadata": {},
     "output_type": "execute_result"
    }
   ],
   "source": [
    "# read forms\n",
    "lstASXForms = pd.read_csv(xDir_Src + \"/ASXForms.csv\", encoding='utf-8')\n",
    "lstASXForms.head()"
   ]
  },
  {
   "cell_type": "code",
   "execution_count": 8,
   "metadata": {},
   "outputs": [
    {
     "data": {
      "text/html": [
       "<div>\n",
       "<style scoped>\n",
       "    .dataframe tbody tr th:only-of-type {\n",
       "        vertical-align: middle;\n",
       "    }\n",
       "\n",
       "    .dataframe tbody tr th {\n",
       "        vertical-align: top;\n",
       "    }\n",
       "\n",
       "    .dataframe thead th {\n",
       "        text-align: right;\n",
       "    }\n",
       "</style>\n",
       "<table border=\"1\" class=\"dataframe\">\n",
       "  <thead>\n",
       "    <tr style=\"text-align: right;\">\n",
       "      <th></th>\n",
       "      <th>Anchor</th>\n",
       "      <th>nAnchor</th>\n",
       "      <th>formid</th>\n",
       "    </tr>\n",
       "  </thead>\n",
       "  <tbody>\n",
       "    <tr>\n",
       "      <th>0</th>\n",
       "      <td>Rule 1.7</td>\n",
       "      <td>0</td>\n",
       "      <td>ASXForm000</td>\n",
       "    </tr>\n",
       "    <tr>\n",
       "      <th>1</th>\n",
       "      <td>Appendix 1A</td>\n",
       "      <td>1</td>\n",
       "      <td>ASXForm000</td>\n",
       "    </tr>\n",
       "    <tr>\n",
       "      <th>2</th>\n",
       "      <td>Application for Admission to the ASX Official ...</td>\n",
       "      <td>2</td>\n",
       "      <td>ASXForm000</td>\n",
       "    </tr>\n",
       "    <tr>\n",
       "      <th>3</th>\n",
       "      <td>(ASX Listing)</td>\n",
       "      <td>3</td>\n",
       "      <td>ASXForm000</td>\n",
       "    </tr>\n",
       "    <tr>\n",
       "      <th>4</th>\n",
       "      <td>Name of entity1</td>\n",
       "      <td>4</td>\n",
       "      <td>ASXForm000</td>\n",
       "    </tr>\n",
       "  </tbody>\n",
       "</table>\n",
       "</div>"
      ],
      "text/plain": [
       "                                              Anchor  nAnchor      formid\n",
       "0                                           Rule 1.7        0  ASXForm000\n",
       "1                                        Appendix 1A        1  ASXForm000\n",
       "2  Application for Admission to the ASX Official ...        2  ASXForm000\n",
       "3                                      (ASX Listing)        3  ASXForm000\n",
       "4                                    Name of entity1        4  ASXForm000"
      ]
     },
     "execution_count": 8,
     "metadata": {},
     "output_type": "execute_result"
    }
   ],
   "source": [
    "lstForms = pd.DataFrame([])\n",
    "for formid in lstASXForms.index:\n",
    "    xFilename = xDir_Src + \"/ASXForm\" + str(formid).zfill(3) + \".txt\"\n",
    "    xanchor = usefulNLP.getanchors(xFilename)\n",
    "    xframe = pd.DataFrame(xanchor,columns=['Anchor'])\n",
    "    xframe['nAnchor'] = xframe.index\n",
    "    xframe['formid'] = 'ASXForm' + str(formid).zfill(3)\n",
    "    lstForms = pd.concat([lstForms, xframe], axis=0)\n",
    "lstForms.head()"
   ]
  },
  {
   "cell_type": "code",
   "execution_count": null,
   "metadata": {},
   "outputs": [],
   "source": []
  },
  {
   "cell_type": "code",
   "execution_count": null,
   "metadata": {},
   "outputs": [],
   "source": []
  },
  {
   "cell_type": "code",
   "execution_count": null,
   "metadata": {},
   "outputs": [],
   "source": []
  },
  {
   "cell_type": "code",
   "execution_count": null,
   "metadata": {},
   "outputs": [],
   "source": []
  },
  {
   "cell_type": "code",
   "execution_count": null,
   "metadata": {},
   "outputs": [],
   "source": []
  },
  {
   "cell_type": "code",
   "execution_count": null,
   "metadata": {},
   "outputs": [],
   "source": []
  },
  {
   "cell_type": "code",
   "execution_count": null,
   "metadata": {},
   "outputs": [],
   "source": []
  },
  {
   "cell_type": "code",
   "execution_count": null,
   "metadata": {},
   "outputs": [],
   "source": []
  },
  {
   "cell_type": "code",
   "execution_count": null,
   "metadata": {},
   "outputs": [],
   "source": []
  },
  {
   "cell_type": "code",
   "execution_count": null,
   "metadata": {},
   "outputs": [],
   "source": []
  },
  {
   "cell_type": "code",
   "execution_count": null,
   "metadata": {},
   "outputs": [],
   "source": []
  },
  {
   "cell_type": "code",
   "execution_count": null,
   "metadata": {},
   "outputs": [],
   "source": []
  },
  {
   "cell_type": "code",
   "execution_count": null,
   "metadata": {},
   "outputs": [],
   "source": []
  },
  {
   "cell_type": "code",
   "execution_count": null,
   "metadata": {},
   "outputs": [],
   "source": []
  }
 ],
 "metadata": {
  "kernelspec": {
   "display_name": "Python 3",
   "language": "python",
   "name": "python3"
  },
  "language_info": {
   "codemirror_mode": {
    "name": "ipython",
    "version": 3
   },
   "file_extension": ".py",
   "mimetype": "text/x-python",
   "name": "python",
   "nbconvert_exporter": "python",
   "pygments_lexer": "ipython3",
   "version": "3.7.4"
  }
 },
 "nbformat": 4,
 "nbformat_minor": 2
}
